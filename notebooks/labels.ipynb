{
 "cells": [
  {
   "cell_type": "markdown",
   "metadata": {},
   "source": [
    "For generating labels for the dataset"
   ]
  },
  {
   "cell_type": "code",
   "execution_count": 3,
   "metadata": {},
   "outputs": [
    {
     "name": "stderr",
     "output_type": "stream",
     "text": [
      "Processing anomaly videos: 100%|██████████| 50/50 [00:00<00:00, 161195.39it/s]\n",
      "Processing normal videos: 100%|██████████| 150/150 [00:00<00:00, 1129525.31it/s]"
     ]
    },
    {
     "name": "stdout",
     "output_type": "stream",
     "text": [
      "Labels saved to /Users/Video anomaly/data/labels/video_labels.csv\n"
     ]
    },
    {
     "name": "stderr",
     "output_type": "stream",
     "text": [
      "\n"
     ]
    }
   ],
   "source": [
    "import os\n",
    "import csv\n",
    "from tqdm import tqdm  # For progress bars (install with: pip install tqdm)\n",
    "\n",
    "# Paths (adjust based on your directory)\n",
    "RAW_VIDEOS_DIR = r\"/Users/Video anomaly/data/raw_videos\"\n",
    "LABELS_DIR = r\"/Users/Video anomaly/data/labels\"\n",
    "os.makedirs(LABELS_DIR, exist_ok=True)\n",
    "\n",
    "# Label definitions\n",
    "ANOMALY_LABEL = 1  # Abuse/fights\n",
    "NORMAL_LABEL = 0    # Normal activity\n",
    "\n",
    "def generate_video_labels():\n",
    "    \"\"\"Generate video-level labels (0=normal, 1=anomaly) for all videos.\"\"\"\n",
    "    labels = []\n",
    "    \n",
    "    # Label anomaly videos (assuming all in 'raw_videos/anomaly/')\n",
    "    anomaly_dir = os.path.join(RAW_VIDEOS_DIR, \"anomaly\")\n",
    "    for video in tqdm(os.listdir(anomaly_dir), desc=\"Processing anomaly videos\"):\n",
    "        if video.endswith((\".mp4\", \".avi\", \".mov\")):\n",
    "            labels.append({\"video_path\": os.path.join(anomaly_dir, video), \"label\": ANOMALY_LABEL})\n",
    "    \n",
    "    # Label normal videos (assuming all in 'raw_videos/normal/')\n",
    "    normal_dir = os.path.join(RAW_VIDEOS_DIR, \"normal\")\n",
    "    for video in tqdm(os.listdir(normal_dir), desc=\"Processing normal videos\"):\n",
    "        if video.endswith((\".mp4\", \".avi\", \".mov\")):\n",
    "            labels.append({\"video_path\": os.path.join(normal_dir, video), \"label\": NORMAL_LABEL})\n",
    "    \n",
    "    # Save to CSV\n",
    "    csv_path = os.path.join(LABELS_DIR, \"video_labels.csv\")\n",
    "    with open(csv_path, mode=\"w\", newline=\"\") as file:\n",
    "        writer = csv.DictWriter(file, fieldnames=[\"video_path\", \"label\"])\n",
    "        writer.writeheader()\n",
    "        writer.writerows(labels)\n",
    "    \n",
    "    print(f\"Labels saved to {csv_path}\")\n",
    "\n",
    "if __name__ == \"__main__\":\n",
    "    generate_video_labels()"
   ]
  },
  {
   "cell_type": "markdown",
   "metadata": {},
   "source": [
    "For frames levels labels"
   ]
  },
  {
   "cell_type": "code",
   "execution_count": 6,
   "metadata": {},
   "outputs": [
    {
     "name": "stderr",
     "output_type": "stream",
     "text": [
      "Anomaly Videos: 100%|██████████| 50/50 [00:00<00:00, 314.23it/s]\n",
      "Normal Videos: 100%|██████████| 150/150 [00:00<00:00, 356.91it/s]\n"
     ]
    },
    {
     "name": "stdout",
     "output_type": "stream",
     "text": [
      "Frame labels saved to /Users/Video anomaly/data/labels/frame_labels.csv\n"
     ]
    }
   ],
   "source": [
    "import os\n",
    "import csv\n",
    "import cv2\n",
    "from tqdm import tqdm  # Install with: pip install tqdm\n",
    "\n",
    "# Paths (use raw strings for Windows paths)\n",
    "RAW_VIDEOS_DIR = r\"/Users/Video anomaly/data/raw_videos\"\n",
    "LABELS_DIR = r\"/Users/Video anomaly/data/labels\"\n",
    "os.makedirs(LABELS_DIR, exist_ok=True)\n",
    "\n",
    "# Label definitions\n",
    "ANOMALY_LABEL = 1  # Abuse/fights\n",
    "NORMAL_LABEL = 0   # Normal activity\n",
    "\n",
    "def generate_frame_labels():\n",
    "    \"\"\"Generate frame-level labels (0=normal, 1=anomaly) for all videos.\"\"\"\n",
    "    frame_labels = []\n",
    "    \n",
    "    # Process ANOMALY videos (label all frames as 1)\n",
    "    anomaly_dir = os.path.join(RAW_VIDEOS_DIR, \"anomaly\")\n",
    "    for video in tqdm(os.listdir(anomaly_dir), desc=\"Anomaly Videos\"):\n",
    "        if not video.lower().endswith((\".mp4\", \".avi\", \".mov\")):\n",
    "            continue\n",
    "        \n",
    "        video_path = os.path.join(anomaly_dir, video)\n",
    "        cap = cv2.VideoCapture(video_path)\n",
    "        total_frames = int(cap.get(cv2.CAP_PROP_FRAME_COUNT))\n",
    "        \n",
    "        for frame_num in range(total_frames):\n",
    "            frame_labels.append({\n",
    "                \"video_path\": video_path,\n",
    "                \"frame_num\": frame_num,\n",
    "                \"label\": ANOMALY_LABEL\n",
    "            })\n",
    "        cap.release()\n",
    "    \n",
    "    # Process NORMAL videos (label all frames as 0)\n",
    "    normal_dir = os.path.join(RAW_VIDEOS_DIR, \"normal\")\n",
    "    for video in tqdm(os.listdir(normal_dir), desc=\"Normal Videos\"):\n",
    "        if not video.lower().endswith((\".mp4\", \".avi\", \".mov\")):\n",
    "            continue\n",
    "        \n",
    "        video_path = os.path.join(normal_dir, video)\n",
    "        cap = cv2.VideoCapture(video_path)\n",
    "        total_frames = int(cap.get(cv2.CAP_PROP_FRAME_COUNT))\n",
    "        \n",
    "        for frame_num in range(total_frames):\n",
    "            frame_labels.append({\n",
    "                \"video_path\": video_path,\n",
    "                \"frame_num\": frame_num,\n",
    "                \"label\": NORMAL_LABEL\n",
    "            })\n",
    "        cap.release()\n",
    "    \n",
    "    # Save to CSV\n",
    "    csv_path = os.path.join(LABELS_DIR, \"frame_labels.csv\")\n",
    "    with open(csv_path, mode=\"w\", newline=\"\") as file:\n",
    "        writer = csv.DictWriter(file, fieldnames=[\"video_path\", \"frame_num\", \"label\"])\n",
    "        writer.writeheader()\n",
    "        writer.writerows(frame_labels)\n",
    "    \n",
    "    print(f\"Frame labels saved to {csv_path}\")\n",
    "\n",
    "if __name__ == \"__main__\":\n",
    "    generate_frame_labels()  # Fixed: Call the correct function!"
   ]
  }
 ],
 "metadata": {
  "kernelspec": {
   "display_name": "Python 3",
   "language": "python",
   "name": "python3"
  },
  "language_info": {
   "codemirror_mode": {
    "name": "ipython",
    "version": 3
   },
   "file_extension": ".py",
   "mimetype": "text/x-python",
   "name": "python",
   "nbconvert_exporter": "python",
   "pygments_lexer": "ipython3",
   "version": "3.13.2"
  }
 },
 "nbformat": 4,
 "nbformat_minor": 2
}
