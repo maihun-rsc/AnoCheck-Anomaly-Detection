{
 "cells": [
  {
   "cell_type": "code",
   "execution_count": 1,
   "metadata": {},
   "outputs": [
    {
     "name": "stdout",
     "output_type": "stream",
     "text": [
      "🔍 Loaded enhanced features with columns: ['video_id', 'label', 'mean_motion', 'max_motion', 'std_motion', 'mean_flow', 'max_flow']\n",
      "📊 Training samples: 159, Testing samples: 40\n",
      "✅ Model training complete\n",
      "\n",
      "Classification Report:\n",
      "              precision    recall  f1-score   support\n",
      "\n",
      "           0       0.88      0.85      0.87        34\n",
      "           1       0.29      0.33      0.31         6\n",
      "\n",
      "    accuracy                           0.78        40\n",
      "   macro avg       0.58      0.59      0.59        40\n",
      "weighted avg       0.79      0.78      0.78        40\n",
      "\n",
      "\n",
      "Confusion Matrix:\n",
      "[[29  5]\n",
      " [ 4  2]]\n",
      "💾 Model saved to /Users/Video anomaly/models/rf_model.pkl\n"
     ]
    }
   ],
   "source": [
    "import pandas as pd\n",
    "from sklearn.model_selection import train_test_split\n",
    "from sklearn.ensemble import RandomForestClassifier\n",
    "from sklearn.metrics import classification_report, confusion_matrix\n",
    "import joblib\n",
    "from pathlib import Path\n",
    "\n",
    "# Directories\n",
    "PROJECT_ROOT = Path(\"/Users/Video anomaly\")\n",
    "PROCESSED_DIR = PROJECT_ROOT / \"data\" / \"processed\"\n",
    "MODELS_DIR = PROJECT_ROOT / \"models\"\n",
    "MODELS_DIR.mkdir(exist_ok=True)  # Create models directory if it doesn’t exist\n",
    "\n",
    "# Load enhanced features\n",
    "input_path = PROCESSED_DIR / \"metadata\" / \"enhanced_features.csv\"\n",
    "df = pd.read_csv(input_path)\n",
    "print(\"🔍 Loaded enhanced features with columns:\", df.columns.tolist())\n",
    "\n",
    "# Features and labels\n",
    "feature_columns = ['mean_motion', 'max_motion', 'std_motion', 'mean_flow', 'max_flow']\n",
    "X = df[feature_columns]\n",
    "y = df['label']\n",
    "\n",
    "# Split into training and testing sets\n",
    "X_train, X_test, y_train, y_test = train_test_split(X, y, test_size=0.2, random_state=42)\n",
    "print(f\"📊 Training samples: {len(X_train)}, Testing samples: {len(X_test)}\")\n",
    "\n",
    "# Initialize and train the model\n",
    "model = RandomForestClassifier(n_estimators=100, random_state=42)\n",
    "model.fit(X_train, y_train)\n",
    "print(\"✅ Model training complete\")\n",
    "\n",
    "# Evaluate the model\n",
    "y_pred = model.predict(X_test)\n",
    "print(\"\\nClassification Report:\")\n",
    "print(classification_report(y_test, y_pred))\n",
    "print(\"\\nConfusion Matrix:\")\n",
    "print(confusion_matrix(y_test, y_pred))\n",
    "\n",
    "# Save the model\n",
    "model_path = MODELS_DIR / \"rf_model.pkl\"\n",
    "joblib.dump(model, model_path)\n",
    "print(f\"💾 Model saved to {model_path}\")"
   ]
  }
 ],
 "metadata": {
  "kernelspec": {
   "display_name": "Python 3",
   "language": "python",
   "name": "python3"
  },
  "language_info": {
   "codemirror_mode": {
    "name": "ipython",
    "version": 3
   },
   "file_extension": ".py",
   "mimetype": "text/x-python",
   "name": "python",
   "nbconvert_exporter": "python",
   "pygments_lexer": "ipython3",
   "version": "3.13.2"
  }
 },
 "nbformat": 4,
 "nbformat_minor": 2
}
