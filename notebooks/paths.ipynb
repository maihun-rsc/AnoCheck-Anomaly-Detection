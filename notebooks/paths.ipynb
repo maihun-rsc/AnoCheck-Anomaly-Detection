{
 "cells": [
  {
   "cell_type": "code",
   "execution_count": 2,
   "metadata": {},
   "outputs": [
    {
     "name": "stdout",
     "output_type": "stream",
     "text": [
      "✅ Video paths saved to /Users/Video anomaly/data/video_paths.csv (199 videos found)\n"
     ]
    }
   ],
   "source": [
    "import os\n",
    "import pandas as pd\n",
    "\n",
    "# 📂 Base Path\n",
    "base_dir = \"/Users/Video anomaly/data/raw_videos\"\n",
    "\n",
    "# 🔍 Scan for videos\n",
    "video_data = []\n",
    "for category in [\"anomaly\", \"normal\"]:\n",
    "    folder_path = os.path.join(base_dir, category)\n",
    "    \n",
    "    if not os.path.exists(folder_path):\n",
    "        print(f\"❌ Folder missing: {folder_path}\")\n",
    "        continue\n",
    "    \n",
    "    for file in os.listdir(folder_path):\n",
    "        if file.endswith((\".mp4\", \".avi\", \".mov\")):  # ✅ Support multiple formats\n",
    "            video_id = os.path.splitext(file)[0]  # Remove extension\n",
    "            video_path = os.path.join(folder_path, file)\n",
    "            video_data.append({\"video_id\": video_id, \"category\": category, \"video_path\": video_path})\n",
    "\n",
    "# 📄 Save to CSV\n",
    "csv_path = \"/Users/Video anomaly/data/video_paths.csv\"\n",
    "pd.DataFrame(video_data).to_csv(csv_path, index=False)\n",
    "print(f\"✅ Video paths saved to {csv_path} ({len(video_data)} videos found)\")"
   ]
  },
  {
   "cell_type": "code",
   "execution_count": 3,
   "metadata": {},
   "outputs": [
    {
     "name": "stdout",
     "output_type": "stream",
     "text": [
      "        video_id category                                         video_path\n",
      "0  Abuse027_x264  anomaly  /Users/Video anomaly/data/raw_videos/anomaly/A...\n",
      "1  Abuse026_x264  anomaly  /Users/Video anomaly/data/raw_videos/anomaly/A...\n",
      "2  Abuse019_x264  anomaly  /Users/Video anomaly/data/raw_videos/anomaly/A...\n",
      "3  Abuse018_x264  anomaly  /Users/Video anomaly/data/raw_videos/anomaly/A...\n",
      "4  Abuse013_x264  anomaly  /Users/Video anomaly/data/raw_videos/anomaly/A...\n"
     ]
    }
   ],
   "source": [
    "import pandas as pd\n",
    "\n",
    "csv_path = \"/Users/Video anomaly/data/video_paths.csv\"\n",
    "df = pd.read_csv(csv_path)\n",
    "\n",
    "print(df.head())  # Show the first few rows"
   ]
  },
  {
   "cell_type": "code",
   "execution_count": 1,
   "metadata": {},
   "outputs": [
    {
     "name": "stdout",
     "output_type": "stream",
     "text": [
      "✅ Valid videos: 199/199\n",
      "❌ Missing videos: 0\n"
     ]
    }
   ],
   "source": [
    "import os\n",
    "import pandas as pd\n",
    "\n",
    "# 📄 Load CSV\n",
    "csv_path = \"/Users/Video anomaly/data/video_paths.csv\"\n",
    "df = pd.read_csv(csv_path)\n",
    "\n",
    "# 🔍 Check if each video exists\n",
    "df[\"exists\"] = df[\"video_path\"].apply(lambda x: os.path.exists(x))\n",
    "\n",
    "# 📊 Summary\n",
    "valid_count = df[\"exists\"].sum()\n",
    "invalid_count = len(df) - valid_count\n",
    "\n",
    "print(f\"✅ Valid videos: {valid_count}/{len(df)}\")\n",
    "print(f\"❌ Missing videos: {invalid_count}\")\n",
    "\n",
    "# 🚨 Show missing videos\n",
    "if invalid_count > 0:\n",
    "    print(\"\\n🚨 Missing Video Paths:\")\n",
    "    print(df[~df[\"exists\"]][[\"video_id\", \"video_path\"]])"
   ]
  },
  {
   "cell_type": "code",
   "execution_count": 1,
   "metadata": {},
   "outputs": [
    {
     "name": "stdout",
     "output_type": "stream",
     "text": [
      "        video_id category                                         video_path\n",
      "0  Abuse027_x264  anomaly  /Users/Video anomaly/data/raw_videos/anomaly/A...\n",
      "1  Abuse026_x264  anomaly  /Users/Video anomaly/data/raw_videos/anomaly/A...\n",
      "2  Abuse019_x264  anomaly  /Users/Video anomaly/data/raw_videos/anomaly/A...\n",
      "3  Abuse018_x264  anomaly  /Users/Video anomaly/data/raw_videos/anomaly/A...\n",
      "4  Abuse013_x264  anomaly  /Users/Video anomaly/data/raw_videos/anomaly/A...\n",
      "Checking file: /Users/Video anomaly/data/raw_videos/anomaly/Abuse027_x264.mp4\n",
      "Exists: True\n"
     ]
    }
   ],
   "source": [
    "import os\n",
    "import pandas as pd\n",
    "\n",
    "csv_path = \"/Users/Video anomaly/data/video_paths.csv\"\n",
    "df = pd.read_csv(csv_path)\n",
    "\n",
    "# Show first 5 rows\n",
    "print(df.head())\n",
    "\n",
    "# Check if the first video file actually exists\n",
    "video_path = df['video_path'][0]\n",
    "print(f\"Checking file: {video_path}\")\n",
    "print(\"Exists:\", os.path.exists(video_path))"
   ]
  },
  {
   "cell_type": "code",
   "execution_count": 2,
   "metadata": {},
   "outputs": [],
   "source": [
    "df['video_path'] = df['video_path'].str.strip()\n",
    "df['video_exists'] = df['video_path'].apply(lambda x: os.path.exists(x))"
   ]
  },
  {
   "cell_type": "code",
   "execution_count": 3,
   "metadata": {},
   "outputs": [],
   "source": [
    "df['video_path'] = df['video_path'].apply(lambda x: os.path.abspath(x))"
   ]
  },
  {
   "cell_type": "code",
   "execution_count": 4,
   "metadata": {},
   "outputs": [
    {
     "name": "stdout",
     "output_type": "stream",
     "text": [
      "Feature Exists: False\n"
     ]
    }
   ],
   "source": [
    "df['features_path'] = df['video_path'].str.replace(\n",
    "    \"raw_videos\", \"processed/features\"\n",
    ").str.replace(\".mp4\", \".npy\")\n",
    "\n",
    "# Check if the first feature file exists\n",
    "print(\"Feature Exists:\", os.path.exists(df['features_path'][0]))"
   ]
  },
  {
   "cell_type": "code",
   "execution_count": 5,
   "metadata": {},
   "outputs": [
    {
     "name": "stdout",
     "output_type": "stream",
     "text": [
      "❌ Missing features: 199/199\n",
      "🚨 First missing feature file: /Users/Video anomaly/data/processed/features/anomaly/Abuse027_x264.npy\n"
     ]
    }
   ],
   "source": [
    "import os\n",
    "import pandas as pd\n",
    "\n",
    "csv_path = \"/Users/Video anomaly/data/video_paths.csv\"\n",
    "df = pd.read_csv(csv_path)\n",
    "\n",
    "# Generate feature file paths based on video paths\n",
    "df['features_path'] = df['video_path'].str.replace(\n",
    "    \"raw_videos\", \"processed/features\"\n",
    ").str.replace(\".mp4\", \".npy\")\n",
    "\n",
    "# Check if feature files exist\n",
    "df['features_exists'] = df['features_path'].apply(lambda x: os.path.exists(x))\n",
    "\n",
    "# Count missing features\n",
    "missing_features = df[~df['features_exists']]\n",
    "print(f\"❌ Missing features: {len(missing_features)}/{len(df)}\")\n",
    "\n",
    "# Print the first missing feature path\n",
    "if not missing_features.empty:\n",
    "    print(\"🚨 First missing feature file:\", missing_features['features_path'].iloc[0])"
   ]
  },
  {
   "cell_type": "code",
   "execution_count": 14,
   "metadata": {},
   "outputs": [
    {
     "name": "stdout",
     "output_type": "stream",
     "text": [
      "Columns in video_path_db.csv: ['video_id', 'category', 'video_path_abs']\n",
      "Columns in video_metadata.csv: ['video_id', 'category', 'label', 'features_path', 'frames_dir', 'frame_count', 'mean_motion', 'max_motion', 'std_motion']\n"
     ]
    }
   ],
   "source": [
    "import pandas as pd\n",
    "\n",
    "# Load CSVs\n",
    "video_path_db = pd.read_csv(r\"/Users/Video anomaly/data/processed/video_path_db.csv\")\n",
    "video_metadata = pd.read_csv(r\"/Users/Video anomaly/data/processed/metadata/video_metadata.csv\")\n",
    "\n",
    "# Print column names\n",
    "print(\"Columns in video_path_db.csv:\", video_path_db.columns.tolist())\n",
    "print(\"Columns in video_metadata.csv:\", video_metadata.columns.tolist())"
   ]
  },
  {
   "cell_type": "code",
   "execution_count": 15,
   "metadata": {},
   "outputs": [
    {
     "name": "stdout",
     "output_type": "stream",
     "text": [
      "Total Videos: 199\n",
      "Missing Videos: 0\n",
      "Missing Features: 199\n",
      "\n",
      "✅ Merged data saved to 'merged_video_data.csv'\n"
     ]
    }
   ],
   "source": [
    "import pandas as pd\n",
    "import os\n",
    "\n",
    "# Define file paths\n",
    "video_path_db_path = r\"/Users/Video anomaly/data/processed/video_path_db.csv\"\n",
    "video_metadata_path = r\"/Users/Video anomaly/data/processed/metadata/video_metadata.csv\"\n",
    "\n",
    "# Load CSVs\n",
    "df_paths = pd.read_csv(video_path_db_path)\n",
    "df_metadata = pd.read_csv(video_metadata_path)\n",
    "\n",
    "# Ensure required columns exist\n",
    "if \"video_id\" not in df_paths.columns or \"video_path_abs\" not in df_paths.columns:\n",
    "    raise KeyError(\"video_path_db.csv must contain 'video_id' and 'video_path_abs' columns\")\n",
    "\n",
    "if \"video_id\" not in df_metadata.columns or \"features_path\" not in df_metadata.columns:\n",
    "    raise KeyError(\"video_metadata.csv must contain 'video_id' and 'features_path' columns\")\n",
    "\n",
    "# Merge both dataframes on 'video_id' and 'category'\n",
    "df = pd.merge(df_metadata, df_paths, on=['video_id', 'category'], how='left')\n",
    "\n",
    "# Check for missing paths\n",
    "df['video_exists'] = df['video_path_abs'].apply(lambda x: os.path.exists(str(x)) if pd.notna(x) else False)\n",
    "df['features_exists'] = df['features_path'].apply(lambda x: os.path.exists(str(x)) if pd.notna(x) else False)\n",
    "\n",
    "# Show missing file paths\n",
    "missing_videos = df[~df['video_exists']]\n",
    "missing_features = df[~df['features_exists']]\n",
    "\n",
    "print(f\"Total Videos: {len(df)}\")\n",
    "print(f\"Missing Videos: {len(missing_videos)}\")\n",
    "print(f\"Missing Features: {len(missing_features)}\")\n",
    "\n",
    "# Save results\n",
    "df.to_csv(r\"/Users/Video anomaly/data/processed/merged_video_data.csv\", index=False)\n",
    "print(\"\\n✅ Merged data saved to 'merged_video_data.csv'\")"
   ]
  }
 ],
 "metadata": {
  "kernelspec": {
   "display_name": "Python 3",
   "language": "python",
   "name": "python3"
  },
  "language_info": {
   "codemirror_mode": {
    "name": "ipython",
    "version": 3
   },
   "file_extension": ".py",
   "mimetype": "text/x-python",
   "name": "python",
   "nbconvert_exporter": "python",
   "pygments_lexer": "ipython3",
   "version": "3.13.2"
  }
 },
 "nbformat": 4,
 "nbformat_minor": 2
}
